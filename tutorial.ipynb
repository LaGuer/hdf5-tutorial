{
 "metadata": {
  "celltoolbar": "Slideshow",
  "name": "",
  "signature": "sha256:b993d6da834f89506de91b194200ac3639498915bf96b3d41e81972d47ccec9f"
 },
 "nbformat": 3,
 "nbformat_minor": 0,
 "worksheets": [
  {
   "cells": [
    {
     "cell_type": "markdown",
     "metadata": {
      "slideshow": {
       "slide_type": "slide"
      }
     },
     "source": [
      "# Introduction \u00e0 HDF5 et h5py"
     ]
    },
    {
     "cell_type": "markdown",
     "metadata": {
      "slideshow": {
       "slide_type": "slide"
      }
     },
     "source": [
      "## Plan\n",
      "\n",
      "* Le format HDF5\n",
      "* Exemple de donn\u00e9es HDF5\n",
      "* Introduction \u00e0 h5py\n",
      "* Quelques mots sur PyTables\n",
      "* Concepts avanc\u00e9s d'optimisation"
     ]
    },
    {
     "cell_type": "markdown",
     "metadata": {
      "slideshow": {
       "slide_type": "slide"
      }
     },
     "source": [
      "## Le format HDF5\n",
      "\n",
      "* Objectif: stocker et organiser de larges volumes de donn\u00e9es num\u00e9riques (MB, GB, TB...)\n",
      "* *Hierarchical Data Format*: format de fichiers hi\u00e9rarchique\n",
      "* Open-source, g\u00e9r\u00e9 par le *HDF Group*"
     ]
    },
    {
     "cell_type": "markdown",
     "metadata": {
      "slideshow": {
       "slide_type": "subslide"
      }
     },
     "source": [
      "### Utilisateurs\n",
      "\n",
      "* [Instituts de recherche scientifique](http://www.hdfgroup.org/HDF5/users5.html):\n",
      "    * NASA\n",
      "    * NOAA\n",
      "    * synchrotrons\n",
      "    * instituts de bioinformatique\n",
      "    * ..."
     ]
    },
    {
     "cell_type": "markdown",
     "metadata": {
      "slideshow": {
       "slide_type": "subslide"
      }
     },
     "source": [
      "### Langages\n",
      "\n",
      "* La librairie HDF5 est impl\u00e9ment\u00e9e en C\n",
      "* De nombreux langages offrent une interface HDF5:\n",
      "    * Python\n",
      "    * MATLAB\n",
      "    * FORTRAN\n",
      "    * Julia\n",
      "    * R\n",
      "    * etc."
     ]
    },
    {
     "cell_type": "markdown",
     "metadata": {
      "slideshow": {
       "slide_type": "notes"
      }
     },
     "source": [
      "\n",
      "\n",
      "\n",
      "\n"
     ]
    },
    {
     "cell_type": "markdown",
     "metadata": {
      "slideshow": {
       "slide_type": "slide"
      }
     },
     "source": [
      "## Exemple de format de fichiers\n",
      "\n",
      "* Format de fichier en cours d'\u00e9laboration \u00e0 UCL\n",
      "* Neurosciences exp\u00e9rimentales: enregistrements multi\u00e9lectrodes extracellulaires in vivo (~1GB/min)"
     ]
    },
    {
     "cell_type": "markdown",
     "metadata": {
      "slideshow": {
       "slide_type": "subslide"
      }
     },
     "source": [
      "![](images/buzsaki.PNG)"
     ]
    },
    {
     "cell_type": "markdown",
     "metadata": {
      "slideshow": {
       "slide_type": "subslide"
      }
     },
     "source": [
      "## Donn\u00e9es brutes\n",
      "\n",
      "Signaux digitaux non trait\u00e9s provenant directement des \u00e9lectrodes.\n",
      "\n",
      "**`myexperiment.kwd`**:\n",
      "\n",
      "```\n",
      "/metadata\n",
      "    experiment-name\n",
      "    date\n",
      "    ...\n",
      "/recordings\n",
      "    [0]\n",
      "        data [(1000000, 8), int16]\n",
      "    [1]\n",
      "        data [(1000000, 8), int16]\n",
      "    [2]\n",
      "        data [(1000000, 8), int16]\n",
      "    [3]\n",
      "        data [(1000000, 8), int16]\n",
      "```"
     ]
    },
    {
     "cell_type": "markdown",
     "metadata": {
      "slideshow": {
       "slide_type": "subslide"
      }
     },
     "source": [
      "## Donn\u00e9es trait\u00e9es\n",
      "\n",
      "Potentiels d'action d\u00e9tect\u00e9s, extraits, regroup\u00e9s en sources neuronales.\n",
      "\n",
      "**`myexperiment.kwik`**:\n",
      "\n",
      "```\n",
      "/metadata\n",
      "    experiment-name\n",
      "    date\n",
      "/channel_groups\n",
      "    [2]\n",
      "        spikes\n",
      "            time\n",
      "            recording\n",
      "            waveforms\n",
      "        clusters\n",
      "            [27]\n",
      "                mean_waveform\n",
      "```"
     ]
    }
   ],
   "metadata": {}
  }
 ]
}