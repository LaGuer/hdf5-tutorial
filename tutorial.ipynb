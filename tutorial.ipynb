{
 "metadata": {
  "celltoolbar": "Slideshow",
  "name": "",
  "signature": "sha256:9c655fb194f168d615acb515d149a7e7ba42208a7d3d3771725b08d39fb983a7"
 },
 "nbformat": 3,
 "nbformat_minor": 0,
 "worksheets": [
  {
   "cells": [
    {
     "cell_type": "markdown",
     "metadata": {
      "slideshow": {
       "slide_type": "slide"
      }
     },
     "source": [
      "# Introduction \u00e0 HDF5 et h5py"
     ]
    },
    {
     "cell_type": "markdown",
     "metadata": {
      "slideshow": {
       "slide_type": "slide"
      }
     },
     "source": [
      "## Plan\n",
      "\n",
      "* Le format HDF5\n",
      "* Exemple de donn\u00e9es HDF5\n",
      "* Introduction \u00e0 h5py\n",
      "* Introduction \u00e0 PyTables\n",
      "* Performance et optimisation"
     ]
    },
    {
     "cell_type": "markdown",
     "metadata": {
      "slideshow": {
       "slide_type": "slide"
      }
     },
     "source": [
      "## Le format HDF5\n",
      "\n",
      "* Objectif: stocker et organiser de larges volumes de donn\u00e9es num\u00e9riques (MB, GB, TB...)\n",
      "* *Hierarchical Data Format*: format de fichiers hi\u00e9rarchique\n",
      "* Open-source, g\u00e9r\u00e9 par le *HDF Group*"
     ]
    },
    {
     "cell_type": "markdown",
     "metadata": {
      "slideshow": {
       "slide_type": "subslide"
      }
     },
     "source": [
      "### Utilisateurs\n",
      "\n",
      "* [Instituts de recherche scientifique](http://www.hdfgroup.org/HDF5/users5.html):\n",
      "    * NASA\n",
      "    * NOAA\n",
      "    * synchrotrons\n",
      "    * instituts de bioinformatique\n",
      "    * ..."
     ]
    },
    {
     "cell_type": "markdown",
     "metadata": {
      "slideshow": {
       "slide_type": "subslide"
      }
     },
     "source": [
      "### Langages\n",
      "\n",
      "* La librairie HDF5 est impl\u00e9ment\u00e9e en C\n",
      "* De nombreux langages offrent une interface HDF5:\n",
      "    * Python\n",
      "    * MATLAB\n",
      "    * FORTRAN\n",
      "    * Julia\n",
      "    * R\n",
      "    * etc."
     ]
    },
    {
     "cell_type": "markdown",
     "metadata": {
      "slideshow": {
       "slide_type": "notes"
      }
     },
     "source": [
      "\n",
      "\n",
      "\n",
      "\n"
     ]
    },
    {
     "cell_type": "markdown",
     "metadata": {
      "slideshow": {
       "slide_type": "slide"
      }
     },
     "source": [
      "## Exemple de format de fichiers\n",
      "\n",
      "* Format de fichier en cours d'\u00e9laboration \u00e0 UCL\n",
      "* Neurosciences exp\u00e9rimentales: enregistrements multi\u00e9lectrodes extracellulaires in vivo (~1GB/min)"
     ]
    },
    {
     "cell_type": "markdown",
     "metadata": {
      "slideshow": {
       "slide_type": "subslide"
      }
     },
     "source": [
      "![](images/buzsaki.PNG)"
     ]
    },
    {
     "cell_type": "markdown",
     "metadata": {
      "slideshow": {
       "slide_type": "subslide"
      }
     },
     "source": [
      "## Donn\u00e9es brutes\n",
      "\n",
      "Signaux digitaux non trait\u00e9s provenant directement des \u00e9lectrodes.\n",
      "\n",
      "**`myexperiment.kwd`**:\n",
      "\n",
      "```\n",
      "/metadata               [group]\n",
      "    experiment-name     [attribute]\n",
      "    date                [attribute]\n",
      "    ...\n",
      "/recordings             [group]\n",
      "    [0]                 [group]\n",
      "        data            [dataset, (1000000, 8), int16]\n",
      "    [1]                 [group]\n",
      "        data            [dataset, (1000000, 8), int16]\n",
      "    [2]                 [group]\n",
      "        data            [dataset, (1000000, 8), int16]\n",
      "    [3]                 [group]\n",
      "        data            [dataset, (1000000, 8), int16]\n",
      "```"
     ]
    },
    {
     "cell_type": "markdown",
     "metadata": {
      "slideshow": {
       "slide_type": "subslide"
      }
     },
     "source": [
      "## Donn\u00e9es trait\u00e9es\n",
      "\n",
      "Potentiels d'action d\u00e9tect\u00e9s, extraits, regroup\u00e9s en sources neuronales.\n",
      "\n",
      "**`myexperiment.kwik`**\n",
      "\n",
      "```\n",
      "/metadata\n",
      "    experiment-name\n",
      "    date\n",
      "/channel_groups\n",
      "    [2]\n",
      "        spikes\n",
      "            time  [(15000,), int64\n",
      "            waveforms  [(15000, 32, 8), int16]\n",
      "        clusters\n",
      "            [27]\n",
      "                color\n",
      "                ...\n",
      "```"
     ]
    },
    {
     "cell_type": "markdown",
     "metadata": {
      "slideshow": {
       "slide_type": "subslide"
      }
     },
     "source": [
      "## Demo: ouvrir un fichier HDF5 file avec ViTables"
     ]
    },
    {
     "cell_type": "markdown",
     "metadata": {
      "slideshow": {
       "slide_type": "slide"
      }
     },
     "source": [
      "## Introduction \u00e0 [h5py](http://docs.h5py.org/en/latest/)\n",
      "\n",
      "* Interface HDF5 en Python, compatible NumPy\n",
      "* Simple et l\u00e9g\u00e8re, orient\u00e9e `array`\n",
      "* Alternative: PyTables\n",
      "    * Librairie plus lourde\n",
      "    * Orient\u00e9e `table`, permet des requ\u00eates de type SQL"
     ]
    },
    {
     "cell_type": "markdown",
     "metadata": {
      "slideshow": {
       "slide_type": "subslide"
      }
     },
     "source": [
      "### Cr\u00e9er un fichier"
     ]
    },
    {
     "cell_type": "code",
     "collapsed": false,
     "input": [
      "import h5py"
     ],
     "language": "python",
     "metadata": {
      "slideshow": {
       "slide_type": "-"
      }
     },
     "outputs": [],
     "prompt_number": 2
    },
    {
     "cell_type": "code",
     "collapsed": false,
     "input": [
      "# We create a new HDF5 file.\n",
      "fd = h5py.File('test_h5py.h5', mode='w')"
     ],
     "language": "python",
     "metadata": {
      "slideshow": {
       "slide_type": "-"
      }
     },
     "outputs": [],
     "prompt_number": 3
    },
    {
     "cell_type": "code",
     "collapsed": false,
     "input": [
      "# We add a new group.\n",
      "fd.create_group('/recordings/0')"
     ],
     "language": "python",
     "metadata": {},
     "outputs": [
      {
       "metadata": {},
       "output_type": "pyout",
       "prompt_number": 4,
       "text": [
        "<HDF5 group \"/recordings/0\" (0 members)>"
       ]
      }
     ],
     "prompt_number": 4
    },
    {
     "cell_type": "markdown",
     "metadata": {
      "slideshow": {
       "slide_type": "subslide"
      }
     },
     "source": [
      "### Ecrire des donn\u00e9es"
     ]
    },
    {
     "cell_type": "code",
     "collapsed": false,
     "input": [
      "# We create a random array.\n",
      "import numpy as np\n",
      "data = np.random.randint(low=-10000, high=10000, \n",
      "                         size=(100000, 8))\n",
      "data[:3,:3]"
     ],
     "language": "python",
     "metadata": {
      "slideshow": {
       "slide_type": "-"
      }
     },
     "outputs": [
      {
       "metadata": {},
       "output_type": "pyout",
       "prompt_number": 5,
       "text": [
        "array([[-7302,  4015,  5481],\n",
        "       [ 5179,  8366,  5880],\n",
        "       [ 3068, -6359, -5136]])"
       ]
      }
     ],
     "prompt_number": 5
    },
    {
     "cell_type": "code",
     "collapsed": false,
     "input": [
      "# We add this array to the file.\n",
      "fd.create_dataset('/recordings/0/data', data=data)"
     ],
     "language": "python",
     "metadata": {},
     "outputs": [
      {
       "metadata": {},
       "output_type": "pyout",
       "prompt_number": 6,
       "text": [
        "<HDF5 dataset \"data\": shape (100000, 8), type \"<i4\">"
       ]
      }
     ],
     "prompt_number": 6
    },
    {
     "cell_type": "markdown",
     "metadata": {
      "slideshow": {
       "slide_type": "subslide"
      }
     },
     "source": [
      "### Lire des donn\u00e9es"
     ]
    },
    {
     "cell_type": "code",
     "collapsed": false,
     "input": [
      "# Reading the data.\n",
      "fd['/recordings/0/data'][:3,:3]"
     ],
     "language": "python",
     "metadata": {
      "slideshow": {
       "slide_type": "-"
      }
     },
     "outputs": [
      {
       "metadata": {},
       "output_type": "pyout",
       "prompt_number": 7,
       "text": [
        "array([[-7302,  4015,  5481],\n",
        "       [ 5179,  8366,  5880],\n",
        "       [ 3068, -6359, -5136]])"
       ]
      }
     ],
     "prompt_number": 7
    },
    {
     "cell_type": "markdown",
     "metadata": {
      "slideshow": {
       "slide_type": "subslide"
      }
     },
     "source": [
      "### Attributs"
     ]
    },
    {
     "cell_type": "code",
     "collapsed": false,
     "input": [
      "fd['/recordings/0'].attrs['duration'] = 120."
     ],
     "language": "python",
     "metadata": {
      "slideshow": {
       "slide_type": "-"
      }
     },
     "outputs": [],
     "prompt_number": 8
    },
    {
     "cell_type": "code",
     "collapsed": false,
     "input": [
      "for key, val in fd['/recordings/0'].attrs.iteritems():\n",
      "    print key, '=', val"
     ],
     "language": "python",
     "metadata": {},
     "outputs": [
      {
       "output_type": "stream",
       "stream": "stdout",
       "text": [
        "duration = 120.0\n"
       ]
      }
     ],
     "prompt_number": 9
    },
    {
     "cell_type": "code",
     "collapsed": false,
     "input": [
      "fd.close()"
     ],
     "language": "python",
     "metadata": {},
     "outputs": [],
     "prompt_number": 10
    },
    {
     "cell_type": "markdown",
     "metadata": {
      "slideshow": {
       "slide_type": "slide"
      }
     },
     "source": [
      "## Introduction \u00e0 PyTables"
     ]
    },
    {
     "cell_type": "markdown",
     "metadata": {
      "slideshow": {
       "slide_type": "-"
      }
     },
     "source": [
      "### Cr\u00e9er un fichier"
     ]
    },
    {
     "cell_type": "code",
     "collapsed": false,
     "input": [
      "import tables  # We need PyTables 3.0+ here."
     ],
     "language": "python",
     "metadata": {
      "slideshow": {
       "slide_type": "-"
      }
     },
     "outputs": [],
     "prompt_number": 11
    },
    {
     "cell_type": "code",
     "collapsed": false,
     "input": [
      "fd = tables.open_file('test_tables.h5', mode='w')"
     ],
     "language": "python",
     "metadata": {},
     "outputs": [],
     "prompt_number": 12
    },
    {
     "cell_type": "code",
     "collapsed": false,
     "input": [
      "fd.create_group('/', 'recordings');\n",
      "fd.create_group('/recordings', '0');"
     ],
     "language": "python",
     "metadata": {},
     "outputs": []
    },
    {
     "cell_type": "markdown",
     "metadata": {
      "slideshow": {
       "slide_type": "subslide"
      }
     },
     "source": [
      "### Ecrire des donn\u00e9es"
     ]
    },
    {
     "cell_type": "code",
     "collapsed": false,
     "input": [
      "fd.create_array('/recordings/0', 'data', obj=data);"
     ],
     "language": "python",
     "metadata": {
      "slideshow": {
       "slide_type": "-"
      }
     },
     "outputs": [],
     "prompt_number": 14
    },
    {
     "cell_type": "markdown",
     "metadata": {
      "slideshow": {
       "slide_type": "subslide"
      }
     },
     "source": [
      "### Lire des donn\u00e9es"
     ]
    },
    {
     "cell_type": "code",
     "collapsed": false,
     "input": [
      "fd.get_node('/recordings/0/data')[:3,:3]"
     ],
     "language": "python",
     "metadata": {
      "slideshow": {
       "slide_type": "-"
      }
     },
     "outputs": [
      {
       "metadata": {},
       "output_type": "pyout",
       "prompt_number": 15,
       "text": [
        "array([[-7302,  4015,  5481],\n",
        "       [ 5179,  8366,  5880],\n",
        "       [ 3068, -6359, -5136]])"
       ]
      }
     ],
     "prompt_number": 15
    },
    {
     "cell_type": "markdown",
     "metadata": {
      "slideshow": {
       "slide_type": "subslide"
      }
     },
     "source": [
      "### Attributs"
     ]
    },
    {
     "cell_type": "code",
     "collapsed": false,
     "input": [
      "group = fd.get_node('/recordings/0');"
     ],
     "language": "python",
     "metadata": {},
     "outputs": [],
     "prompt_number": 16
    },
    {
     "cell_type": "code",
     "collapsed": false,
     "input": [
      "group._f_setattr('duration', 120.);"
     ],
     "language": "python",
     "metadata": {},
     "outputs": [],
     "prompt_number": 17
    },
    {
     "cell_type": "code",
     "collapsed": false,
     "input": [
      "group._v_attrs"
     ],
     "language": "python",
     "metadata": {},
     "outputs": [
      {
       "metadata": {},
       "output_type": "pyout",
       "prompt_number": 18,
       "text": [
        "/recordings/0._v_attrs (AttributeSet), 4 attributes:\n",
        "   [CLASS := 'GROUP',\n",
        "    TITLE := u'',\n",
        "    VERSION := '1.0',\n",
        "    duration := 120.0]"
       ]
      }
     ],
     "prompt_number": 18
    },
    {
     "cell_type": "code",
     "collapsed": false,
     "input": [
      "group._f_getattr('duration')"
     ],
     "language": "python",
     "metadata": {},
     "outputs": [
      {
       "metadata": {},
       "output_type": "pyout",
       "prompt_number": 19,
       "text": [
        "120.0"
       ]
      }
     ],
     "prompt_number": 19
    },
    {
     "cell_type": "markdown",
     "metadata": {
      "slideshow": {
       "slide_type": "subslide"
      }
     },
     "source": [
      "### Tables"
     ]
    },
    {
     "cell_type": "code",
     "collapsed": false,
     "input": [
      "dtype = np.dtype([('time', np.int64), ('neuron', np.int32)])"
     ],
     "language": "python",
     "metadata": {},
     "outputs": [],
     "prompt_number": 20
    },
    {
     "cell_type": "code",
     "collapsed": false,
     "input": [
      "table = fd.create_table('/recordings/0', 'spikes', dtype);"
     ],
     "language": "python",
     "metadata": {},
     "outputs": [],
     "prompt_number": 21
    },
    {
     "cell_type": "code",
     "collapsed": false,
     "input": [
      "table.append([(123, 4),\n",
      "              (456, 7),\n",
      "              (789, 12)])"
     ],
     "language": "python",
     "metadata": {},
     "outputs": [],
     "prompt_number": 22
    },
    {
     "cell_type": "code",
     "collapsed": false,
     "input": [
      "table[:]"
     ],
     "language": "python",
     "metadata": {
      "slideshow": {
       "slide_type": "subslide"
      }
     },
     "outputs": [
      {
       "metadata": {},
       "output_type": "pyout",
       "prompt_number": 23,
       "text": [
        "array([(123L, 4), (456L, 7), (789L, 12)], \n",
        "      dtype=[('time', '<i8'), ('neuron', '<i4')])"
       ]
      }
     ],
     "prompt_number": 23
    },
    {
     "cell_type": "code",
     "collapsed": false,
     "input": [
      "table.where('neuron>=10').next()[:]"
     ],
     "language": "python",
     "metadata": {},
     "outputs": [
      {
       "metadata": {},
       "output_type": "pyout",
       "prompt_number": 24,
       "text": [
        "(789L, 12)"
       ]
      }
     ],
     "prompt_number": 24
    },
    {
     "cell_type": "code",
     "collapsed": false,
     "input": [
      "fd.close()"
     ],
     "language": "python",
     "metadata": {},
     "outputs": [],
     "prompt_number": 25
    },
    {
     "cell_type": "markdown",
     "metadata": {
      "slideshow": {
       "slide_type": "slide"
      }
     },
     "source": [
      "## Performance et optimisation"
     ]
    },
    {
     "cell_type": "markdown",
     "metadata": {},
     "source": []
    }
   ],
   "metadata": {}
  }
 ]
}