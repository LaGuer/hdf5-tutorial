{
 "metadata": {
  "celltoolbar": "Slideshow",
  "name": "",
  "signature": "sha256:6f6bea9f943898de0e8fe13816b59ed5a6a6cfcd2cfbdd9a09d675cf695de650"
 },
 "nbformat": 3,
 "nbformat_minor": 0,
 "worksheets": [
  {
   "cells": [
    {
     "cell_type": "markdown",
     "metadata": {
      "slideshow": {
       "slide_type": "slide"
      }
     },
     "source": [
      "# Introduction \u00e0 HDF5 et h5py"
     ]
    },
    {
     "cell_type": "markdown",
     "metadata": {
      "slideshow": {
       "slide_type": "slide"
      }
     },
     "source": [
      "## Plan\n",
      "\n",
      "* Le format HDF5\n",
      "* Exemple de donn\u00e9es HDF5\n",
      "* Introduction \u00e0 h5py\n",
      "* Introduction \u00e0 PyTables\n",
      "* Performance et optimisation"
     ]
    },
    {
     "cell_type": "markdown",
     "metadata": {
      "slideshow": {
       "slide_type": "slide"
      }
     },
     "source": [
      "## Le format HDF5\n",
      "\n",
      "* Objectif: stocker et organiser de larges volumes de donn\u00e9es num\u00e9riques (MB, GB, TB...)\n",
      "* *Hierarchical Data Format*: format de fichiers hi\u00e9rarchique\n",
      "* Open-source, g\u00e9r\u00e9 par le *HDF Group*"
     ]
    },
    {
     "cell_type": "markdown",
     "metadata": {
      "slideshow": {
       "slide_type": "subslide"
      }
     },
     "source": [
      "### Utilisateurs\n",
      "\n",
      "* [Instituts de recherche scientifique](http://www.hdfgroup.org/HDF5/users5.html):\n",
      "    * NASA\n",
      "    * NOAA\n",
      "    * synchrotrons\n",
      "    * instituts de bioinformatique\n",
      "    * ..."
     ]
    },
    {
     "cell_type": "markdown",
     "metadata": {
      "slideshow": {
       "slide_type": "subslide"
      }
     },
     "source": [
      "### Langages\n",
      "\n",
      "* La librairie HDF5 est impl\u00e9ment\u00e9e en C\n",
      "* De nombreux langages offrent une interface HDF5:\n",
      "    * Python\n",
      "    * MATLAB\n",
      "    * FORTRAN\n",
      "    * Julia\n",
      "    * R\n",
      "    * etc."
     ]
    },
    {
     "cell_type": "markdown",
     "metadata": {
      "slideshow": {
       "slide_type": "notes"
      }
     },
     "source": [
      "\n",
      "\n",
      "\n",
      "\n"
     ]
    },
    {
     "cell_type": "markdown",
     "metadata": {
      "slideshow": {
       "slide_type": "slide"
      }
     },
     "source": [
      "## Exemple de format de fichiers\n",
      "\n",
      "* Format de fichier en cours d'\u00e9laboration \u00e0 UCL\n",
      "* Neurosciences exp\u00e9rimentales: enregistrements multi\u00e9lectrodes extracellulaires in vivo (~1GB/min)"
     ]
    },
    {
     "cell_type": "markdown",
     "metadata": {
      "slideshow": {
       "slide_type": "subslide"
      }
     },
     "source": [
      "![](images/buzsaki.PNG)"
     ]
    },
    {
     "cell_type": "markdown",
     "metadata": {
      "slideshow": {
       "slide_type": "subslide"
      }
     },
     "source": [
      "## Donn\u00e9es brutes\n",
      "\n",
      "Signaux digitaux non trait\u00e9s provenant directement des \u00e9lectrodes.\n",
      "\n",
      "**`myexperiment.kwd`**:\n",
      "\n",
      "```\n",
      "/metadata               [group]\n",
      "    experiment-name     [attribute]\n",
      "    date                [attribute]\n",
      "    ...\n",
      "/recordings             [group]\n",
      "    [0]                 [group]\n",
      "        data            [dataset, (1000000, 8), int16]\n",
      "    [1]                 [group]\n",
      "        data            [dataset, (1000000, 8), int16]\n",
      "    [2]                 [group]\n",
      "        data            [dataset, (1000000, 8), int16]\n",
      "    [3]                 [group]\n",
      "        data            [dataset, (1000000, 8), int16]\n",
      "```"
     ]
    },
    {
     "cell_type": "markdown",
     "metadata": {
      "slideshow": {
       "slide_type": "subslide"
      }
     },
     "source": [
      "## Donn\u00e9es trait\u00e9es\n",
      "\n",
      "Potentiels d'action d\u00e9tect\u00e9s, extraits, regroup\u00e9s en sources neuronales.\n",
      "\n",
      "**`myexperiment.kwik`**\n",
      "\n",
      "```\n",
      "/metadata\n",
      "    experiment-name\n",
      "    date\n",
      "/channel_groups\n",
      "    [2]\n",
      "        spikes\n",
      "            time       [(15000,), int64\n",
      "            waveforms  [(15000, 32, 8), int16]\n",
      "        clusters\n",
      "            [27]\n",
      "                color\n",
      "                ...\n",
      "```"
     ]
    },
    {
     "cell_type": "markdown",
     "metadata": {
      "slideshow": {
       "slide_type": "subslide"
      }
     },
     "source": [
      "## Demo: ouvrir un fichier HDF5 file avec ViTables"
     ]
    },
    {
     "cell_type": "markdown",
     "metadata": {
      "slideshow": {
       "slide_type": "slide"
      }
     },
     "source": [
      "## Introduction \u00e0 [h5py](http://docs.h5py.org/en/latest/)\n",
      "\n",
      "* Interface HDF5 en Python, compatible NumPy\n",
      "* Simple et l\u00e9g\u00e8re, orient\u00e9e `array`\n",
      "* Alternative: PyTables\n",
      "    * Librairie plus lourde\n",
      "    * Orient\u00e9e `table`, permet des requ\u00eates de type SQL"
     ]
    },
    {
     "cell_type": "markdown",
     "metadata": {
      "slideshow": {
       "slide_type": "subslide"
      }
     },
     "source": [
      "### Cr\u00e9er un fichier"
     ]
    },
    {
     "cell_type": "code",
     "collapsed": false,
     "input": [
      "import h5py\n",
      "import numpy as np"
     ],
     "language": "python",
     "metadata": {
      "slideshow": {
       "slide_type": "-"
      }
     },
     "outputs": [],
     "prompt_number": 1
    },
    {
     "cell_type": "code",
     "collapsed": false,
     "input": [
      "# We create a new HDF5 file.\n",
      "fd = h5py.File('test_h5py.h5', mode='w')"
     ],
     "language": "python",
     "metadata": {
      "slideshow": {
       "slide_type": "-"
      }
     },
     "outputs": [],
     "prompt_number": 2
    },
    {
     "cell_type": "code",
     "collapsed": false,
     "input": [
      "# We add a new group.\n",
      "fd.create_group('/recordings/0')"
     ],
     "language": "python",
     "metadata": {},
     "outputs": [
      {
       "metadata": {},
       "output_type": "pyout",
       "prompt_number": 3,
       "text": [
        "<HDF5 group \"/recordings/0\" (0 members)>"
       ]
      }
     ],
     "prompt_number": 3
    },
    {
     "cell_type": "markdown",
     "metadata": {
      "slideshow": {
       "slide_type": "subslide"
      }
     },
     "source": [
      "### Ecrire des donn\u00e9es"
     ]
    },
    {
     "cell_type": "code",
     "collapsed": false,
     "input": [
      "# We create a random array.\n",
      "data = np.random.randint(low=-10000, high=10000, \n",
      "                         size=(100000, 8))\n",
      "data[:3,:3]"
     ],
     "language": "python",
     "metadata": {
      "slideshow": {
       "slide_type": "-"
      }
     },
     "outputs": [
      {
       "metadata": {},
       "output_type": "pyout",
       "prompt_number": 4,
       "text": [
        "array([[ 1895,  3500,  5087],\n",
        "       [ 1936,  8904,  7183],\n",
        "       [ 2442, -9109,  8325]])"
       ]
      }
     ],
     "prompt_number": 4
    },
    {
     "cell_type": "code",
     "collapsed": false,
     "input": [
      "# We add this array to the file.\n",
      "fd.create_dataset('/recordings/0/data', data=data)"
     ],
     "language": "python",
     "metadata": {},
     "outputs": [
      {
       "metadata": {},
       "output_type": "pyout",
       "prompt_number": 5,
       "text": [
        "<HDF5 dataset \"data\": shape (100000, 8), type \"<i4\">"
       ]
      }
     ],
     "prompt_number": 5
    },
    {
     "cell_type": "markdown",
     "metadata": {
      "slideshow": {
       "slide_type": "subslide"
      }
     },
     "source": [
      "### Lire des donn\u00e9es"
     ]
    },
    {
     "cell_type": "code",
     "collapsed": false,
     "input": [
      "# Reading the data.\n",
      "fd['/recordings/0/data'][:3,:3]"
     ],
     "language": "python",
     "metadata": {
      "slideshow": {
       "slide_type": "-"
      }
     },
     "outputs": [
      {
       "metadata": {},
       "output_type": "pyout",
       "prompt_number": 6,
       "text": [
        "array([[ 1895,  3500,  5087],\n",
        "       [ 1936,  8904,  7183],\n",
        "       [ 2442, -9109,  8325]])"
       ]
      }
     ],
     "prompt_number": 6
    },
    {
     "cell_type": "markdown",
     "metadata": {
      "slideshow": {
       "slide_type": "subslide"
      }
     },
     "source": [
      "### Attributs"
     ]
    },
    {
     "cell_type": "code",
     "collapsed": false,
     "input": [
      "fd['/recordings/0'].attrs['duration'] = 120."
     ],
     "language": "python",
     "metadata": {
      "slideshow": {
       "slide_type": "-"
      }
     },
     "outputs": [],
     "prompt_number": 7
    },
    {
     "cell_type": "code",
     "collapsed": false,
     "input": [
      "for key, val in fd['/recordings/0'].attrs.iteritems():\n",
      "    print key, '=', val"
     ],
     "language": "python",
     "metadata": {},
     "outputs": [
      {
       "output_type": "stream",
       "stream": "stdout",
       "text": [
        "duration = 120.0\n"
       ]
      }
     ],
     "prompt_number": 8
    },
    {
     "cell_type": "code",
     "collapsed": false,
     "input": [
      "fd.close()"
     ],
     "language": "python",
     "metadata": {},
     "outputs": [],
     "prompt_number": 9
    },
    {
     "cell_type": "markdown",
     "metadata": {
      "slideshow": {
       "slide_type": "slide"
      }
     },
     "source": [
      "## Introduction \u00e0 PyTables"
     ]
    },
    {
     "cell_type": "markdown",
     "metadata": {
      "slideshow": {
       "slide_type": "-"
      }
     },
     "source": [
      "### Cr\u00e9er un fichier"
     ]
    },
    {
     "cell_type": "code",
     "collapsed": false,
     "input": [
      "import tables  # We need PyTables 3.0+ here."
     ],
     "language": "python",
     "metadata": {
      "slideshow": {
       "slide_type": "-"
      }
     },
     "outputs": [],
     "prompt_number": 10
    },
    {
     "cell_type": "code",
     "collapsed": false,
     "input": [
      "fd = tables.open_file('test_tables.h5', mode='w')"
     ],
     "language": "python",
     "metadata": {},
     "outputs": [],
     "prompt_number": 11
    },
    {
     "cell_type": "code",
     "collapsed": false,
     "input": [
      "fd.create_group('/', 'recordings');\n",
      "fd.create_group('/recordings', '0');"
     ],
     "language": "python",
     "metadata": {},
     "outputs": []
    },
    {
     "cell_type": "markdown",
     "metadata": {
      "slideshow": {
       "slide_type": "subslide"
      }
     },
     "source": [
      "### Ecrire des donn\u00e9es"
     ]
    },
    {
     "cell_type": "code",
     "collapsed": false,
     "input": [
      "fd.create_array('/recordings/0', 'data', obj=data);"
     ],
     "language": "python",
     "metadata": {
      "slideshow": {
       "slide_type": "-"
      }
     },
     "outputs": [],
     "prompt_number": 13
    },
    {
     "cell_type": "markdown",
     "metadata": {
      "slideshow": {
       "slide_type": "subslide"
      }
     },
     "source": [
      "### Lire des donn\u00e9es"
     ]
    },
    {
     "cell_type": "code",
     "collapsed": false,
     "input": [
      "fd.get_node('/recordings/0/data')[:3,:3]"
     ],
     "language": "python",
     "metadata": {
      "slideshow": {
       "slide_type": "-"
      }
     },
     "outputs": [
      {
       "metadata": {},
       "output_type": "pyout",
       "prompt_number": 14,
       "text": [
        "array([[ 1895,  3500,  5087],\n",
        "       [ 1936,  8904,  7183],\n",
        "       [ 2442, -9109,  8325]])"
       ]
      }
     ],
     "prompt_number": 14
    },
    {
     "cell_type": "markdown",
     "metadata": {
      "slideshow": {
       "slide_type": "subslide"
      }
     },
     "source": [
      "### Attributs"
     ]
    },
    {
     "cell_type": "code",
     "collapsed": false,
     "input": [
      "group = fd.get_node('/recordings/0');"
     ],
     "language": "python",
     "metadata": {},
     "outputs": [],
     "prompt_number": 15
    },
    {
     "cell_type": "code",
     "collapsed": false,
     "input": [
      "group._f_setattr('duration', 120.);"
     ],
     "language": "python",
     "metadata": {},
     "outputs": [],
     "prompt_number": 16
    },
    {
     "cell_type": "code",
     "collapsed": false,
     "input": [
      "group._v_attrs"
     ],
     "language": "python",
     "metadata": {},
     "outputs": [
      {
       "metadata": {},
       "output_type": "pyout",
       "prompt_number": 17,
       "text": [
        "/recordings/0._v_attrs (AttributeSet), 4 attributes:\n",
        "   [CLASS := 'GROUP',\n",
        "    TITLE := u'',\n",
        "    VERSION := '1.0',\n",
        "    duration := 120.0]"
       ]
      }
     ],
     "prompt_number": 17
    },
    {
     "cell_type": "code",
     "collapsed": false,
     "input": [
      "group._f_getattr('duration')"
     ],
     "language": "python",
     "metadata": {},
     "outputs": [
      {
       "metadata": {},
       "output_type": "pyout",
       "prompt_number": 18,
       "text": [
        "120.0"
       ]
      }
     ],
     "prompt_number": 18
    },
    {
     "cell_type": "markdown",
     "metadata": {
      "slideshow": {
       "slide_type": "subslide"
      }
     },
     "source": [
      "### Tables"
     ]
    },
    {
     "cell_type": "code",
     "collapsed": false,
     "input": [
      "dtype = np.dtype([('time', np.int64), ('neuron', np.int32)])"
     ],
     "language": "python",
     "metadata": {},
     "outputs": [],
     "prompt_number": 19
    },
    {
     "cell_type": "code",
     "collapsed": false,
     "input": [
      "table = fd.create_table('/recordings/0', 'spikes', dtype);"
     ],
     "language": "python",
     "metadata": {},
     "outputs": [],
     "prompt_number": 20
    },
    {
     "cell_type": "code",
     "collapsed": false,
     "input": [
      "table.append([(123, 4),\n",
      "              (456, 7),\n",
      "              (789, 12)])"
     ],
     "language": "python",
     "metadata": {},
     "outputs": [],
     "prompt_number": 21
    },
    {
     "cell_type": "code",
     "collapsed": false,
     "input": [
      "table[:]"
     ],
     "language": "python",
     "metadata": {
      "slideshow": {
       "slide_type": "subslide"
      }
     },
     "outputs": [
      {
       "metadata": {},
       "output_type": "pyout",
       "prompt_number": 22,
       "text": [
        "array([(123L, 4), (456L, 7), (789L, 12)], \n",
        "      dtype=[('time', '<i8'), ('neuron', '<i4')])"
       ]
      }
     ],
     "prompt_number": 22
    },
    {
     "cell_type": "code",
     "collapsed": false,
     "input": [
      "table.where('neuron>=10').next()[:]"
     ],
     "language": "python",
     "metadata": {},
     "outputs": [
      {
       "metadata": {},
       "output_type": "pyout",
       "prompt_number": 23,
       "text": [
        "(789L, 12)"
       ]
      }
     ],
     "prompt_number": 23
    },
    {
     "cell_type": "code",
     "collapsed": false,
     "input": [
      "fd.close()"
     ],
     "language": "python",
     "metadata": {},
     "outputs": [],
     "prompt_number": 24
    },
    {
     "cell_type": "markdown",
     "metadata": {
      "slideshow": {
       "slide_type": "slide"
      }
     },
     "source": [
      "## Performance et optimisation"
     ]
    },
    {
     "cell_type": "markdown",
     "metadata": {},
     "source": [
      "* Conna\u00eetre les motifs d'acc\u00e8s aux donn\u00e9es pour optimiser les performances\n",
      "* Exemple: agencement contigu ou morcel\u00e9 (*chunked*)"
     ]
    },
    {
     "cell_type": "markdown",
     "metadata": {
      "slideshow": {
       "slide_type": "subslide"
      }
     },
     "source": [
      "![](images/chunk1.PNG)"
     ]
    },
    {
     "cell_type": "markdown",
     "metadata": {},
     "source": [
      "* Taille des chunks fix\u00e9e\n",
      "* Taille de chaque chunk entre 10kB et 1MB (pour tenir en cache)"
     ]
    },
    {
     "cell_type": "markdown",
     "metadata": {
      "slideshow": {
       "slide_type": "subslide"
      }
     },
     "source": [
      "![](images/chunk2.PNG)"
     ]
    },
    {
     "cell_type": "code",
     "collapsed": false,
     "input": [
      "fd = h5py.File('test_benchmark.h5', mode='w')\n",
      "data = np.random.randint(low=-10000, high=10000, \n",
      "                         size=(5000, 5000))\n",
      "fd.create_dataset('/data_contiguous', data=data)\n",
      "fd.create_dataset('/data_chunked', data=data, chunks=(200, 200))"
     ],
     "language": "python",
     "metadata": {
      "slideshow": {
       "slide_type": "subslide"
      }
     },
     "outputs": [
      {
       "metadata": {},
       "output_type": "pyout",
       "prompt_number": 25,
       "text": [
        "<HDF5 dataset \"data_chunked\": shape (5000, 5000), type \"<i4\">"
       ]
      }
     ],
     "prompt_number": 25
    },
    {
     "cell_type": "code",
     "collapsed": false,
     "input": [
      "%timeit fd['/data_contiguous'][0,:200]\n",
      "%timeit fd['/data_chunked'][0,:200]"
     ],
     "language": "python",
     "metadata": {
      "slideshow": {
       "slide_type": "subslide"
      }
     },
     "outputs": [
      {
       "output_type": "stream",
       "stream": "stdout",
       "text": [
        "10000 loops, best of 3: 147 \u00b5s per loop\n",
        "10000 loops, best of 3: 134 \u00b5s per loop"
       ]
      },
      {
       "output_type": "stream",
       "stream": "stdout",
       "text": [
        "\n"
       ]
      }
     ],
     "prompt_number": 26
    },
    {
     "cell_type": "code",
     "collapsed": false,
     "input": [
      "%timeit fd['/data_contiguous'][:200,0]\n",
      "%timeit fd['/data_chunked'][:200,0]"
     ],
     "language": "python",
     "metadata": {
      "slideshow": {
       "slide_type": "subslide"
      }
     },
     "outputs": [
      {
       "output_type": "stream",
       "stream": "stdout",
       "text": [
        "1000 loops, best of 3: 701 \u00b5s per loop\n",
        "10000 loops, best of 3: 157 \u00b5s per loop"
       ]
      },
      {
       "output_type": "stream",
       "stream": "stdout",
       "text": [
        "\n"
       ]
      }
     ],
     "prompt_number": 27
    },
    {
     "cell_type": "code",
     "collapsed": false,
     "input": [
      "%timeit fd['/data_contiguous'][0,:]\n",
      "%timeit fd['/data_chunked'][0,:]"
     ],
     "language": "python",
     "metadata": {
      "slideshow": {
       "slide_type": "subslide"
      }
     },
     "outputs": [
      {
       "output_type": "stream",
       "stream": "stdout",
       "text": [
        "10000 loops, best of 3: 149 \u00b5s per loop\n",
        "1000 loops, best of 3: 1.07 ms per loop"
       ]
      },
      {
       "output_type": "stream",
       "stream": "stdout",
       "text": [
        "\n"
       ]
      }
     ],
     "prompt_number": 28
    },
    {
     "cell_type": "code",
     "collapsed": false,
     "input": [
      "%timeit fd['/data_contiguous'][:,0]\n",
      "%timeit fd['/data_chunked'][:,0]"
     ],
     "language": "python",
     "metadata": {
      "slideshow": {
       "slide_type": "subslide"
      }
     },
     "outputs": [
      {
       "output_type": "stream",
       "stream": "stdout",
       "text": [
        "10 loops, best of 3: 20.8 ms per loop\n",
        "1000 loops, best of 3: 1.48 ms per loop"
       ]
      },
      {
       "output_type": "stream",
       "stream": "stdout",
       "text": [
        "\n"
       ]
      }
     ],
     "prompt_number": 29
    },
    {
     "cell_type": "code",
     "collapsed": false,
     "input": [
      "%timeit fd['/data_contiguous'][:200,:200]\n",
      "%timeit fd['/data_chunked'][:200,:200]"
     ],
     "language": "python",
     "metadata": {
      "slideshow": {
       "slide_type": "subslide"
      }
     },
     "outputs": [
      {
       "output_type": "stream",
       "stream": "stdout",
       "text": [
        "1000 loops, best of 3: 662 \u00b5s per loop\n",
        "10000 loops, best of 3: 146 \u00b5s per loop"
       ]
      },
      {
       "output_type": "stream",
       "stream": "stdout",
       "text": [
        "\n"
       ]
      }
     ],
     "prompt_number": 30
    },
    {
     "cell_type": "markdown",
     "metadata": {
      "slideshow": {
       "slide_type": "subslide"
      }
     },
     "source": [
      "### Acc\u00e8s irr\u00e9guliers: \u00e9viter le *fancy indexing*\n",
      "\n",
      "* Matrice (1000000, 1000)\n",
      "* N\u00e9cessit\u00e9 d'acc\u00e9der \u00e0 100 lignes compl\u00e8tes al\u00e9atoirement choisies"
     ]
    },
    {
     "cell_type": "code",
     "collapsed": false,
     "input": [
      "data = np.random.randint(low=-10000, high=10000, \n",
      "                         size=(100000, 100))\n",
      "fd.create_dataset('/lines', data=data)  # contiguous"
     ],
     "language": "python",
     "metadata": {},
     "outputs": [
      {
       "metadata": {},
       "output_type": "pyout",
       "prompt_number": 31,
       "text": [
        "<HDF5 dataset \"lines\": shape (100000, 100), type \"<i4\">"
       ]
      }
     ],
     "prompt_number": 31
    },
    {
     "cell_type": "code",
     "collapsed": false,
     "input": [
      "indices = np.unique(np.random.randint(low=0, high=100000, size=10000))"
     ],
     "language": "python",
     "metadata": {
      "slideshow": {
       "slide_type": "subslide"
      }
     },
     "outputs": [],
     "prompt_number": 32
    },
    {
     "cell_type": "code",
     "collapsed": false,
     "input": [
      "%timeit fd['/lines'][indices,:]\n",
      "%timeit [fd['/lines'][i,:] for i in indices]"
     ],
     "language": "python",
     "metadata": {},
     "outputs": [
      {
       "output_type": "stream",
       "stream": "stdout",
       "text": [
        "1 loops, best of 3: 5.41 s per loop\n",
        "1 loops, best of 3: 1.21 s per loop"
       ]
      },
      {
       "output_type": "stream",
       "stream": "stdout",
       "text": [
        "\n"
       ]
      }
     ],
     "prompt_number": 33
    },
    {
     "cell_type": "code",
     "collapsed": false,
     "input": [
      "fd.close()"
     ],
     "language": "python",
     "metadata": {},
     "outputs": [],
     "prompt_number": 34
    },
    {
     "cell_type": "markdown",
     "metadata": {
      "slideshow": {
       "slide_type": "subslide"
      }
     },
     "source": [
      "### Conclusion\n",
      "\n",
      "* Contiguous ou chunked? D\u00e9pend de l'utilisation.\n",
      "* N\u00e9cessit\u00e9 de r\u00e9aliser des benchmarks.\n",
      "* Tester sur HDD et SDD.\n",
      "* Acc\u00e8s irr\u00e9guliers et complexes?\n",
      "    * Revoir la n\u00e9cessit\u00e9 de ces patterns\n",
      "    * Envisager une modification de l'agencement des donn\u00e9es\n",
      "    * N\u00e9cessit\u00e9 d'\u00e9crire des boucles explicites (Python g\u00e9n\u00e9ralement suffisant tant que la performance est I/O-bound)"
     ]
    },
    {
     "cell_type": "markdown",
     "metadata": {},
     "source": [
      "### R\u00e9f\u00e9rences\n",
      "\n",
      "* [HDF5 chunking](http://www.hdfgroup.org/HDF5/doc/Advanced/Chunking/)\n",
      "* [Chunking: pr\u00e9sentation par Elena Pourmal](http://www.hdfgroup.org/pubs/presentations/HDF5-EOSXIII-Advanced-Chunking.pdf)\n",
      "* [Optimisation PyTables](http://pytables.github.io/usersguide/optimization.html)"
     ]
    }
   ],
   "metadata": {}
  }
 ]
}