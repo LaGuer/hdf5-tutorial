{
 "metadata": {
  "celltoolbar": "Slideshow",
  "name": "",
  "signature": "sha256:2573f704e2585db1cf68b6c2de2f4760e59f21980fb4f0b342f73c8f596eb05c"
 },
 "nbformat": 3,
 "nbformat_minor": 0,
 "worksheets": [
  {
   "cells": [
    {
     "cell_type": "markdown",
     "metadata": {
      "slideshow": {
       "slide_type": "slide"
      }
     },
     "source": [
      "# Introduction \u00e0 HDF5 et h5py"
     ]
    },
    {
     "cell_type": "markdown",
     "metadata": {
      "slideshow": {
       "slide_type": "slide"
      }
     },
     "source": [
      "## Plan\n",
      "\n",
      "* Le format HDF5\n",
      "* Exemple de donn\u00e9es HDF5\n",
      "* Introduction \u00e0 h5py\n",
      "* Concepts avanc\u00e9s d'optimisation"
     ]
    },
    {
     "cell_type": "markdown",
     "metadata": {
      "slideshow": {
       "slide_type": "slide"
      }
     },
     "source": [
      "## Le format HDF5\n",
      "\n",
      "* Objectif: stocker et organiser de larges volumes de donn\u00e9es num\u00e9riques (MB, GB, TB...)\n",
      "* *Hierarchical Data Format*: format de fichiers hi\u00e9rarchique\n",
      "* Open-source, g\u00e9r\u00e9 par le *HDF Group*"
     ]
    },
    {
     "cell_type": "markdown",
     "metadata": {
      "slideshow": {
       "slide_type": "subslide"
      }
     },
     "source": [
      "### Utilisateurs\n",
      "\n",
      "* [Instituts de recherche scientifique](http://www.hdfgroup.org/HDF5/users5.html):\n",
      "    * NASA\n",
      "    * NOAA\n",
      "    * synchrotrons\n",
      "    * instituts de bioinformatique\n",
      "    * ..."
     ]
    },
    {
     "cell_type": "markdown",
     "metadata": {
      "slideshow": {
       "slide_type": "subslide"
      }
     },
     "source": [
      "### Langages\n",
      "\n",
      "* La librairie HDF5 est impl\u00e9ment\u00e9e en C\n",
      "* De nombreux langages offrent une interface HDF5:\n",
      "    * Python\n",
      "    * MATLAB\n",
      "    * FORTRAN\n",
      "    * Julia\n",
      "    * R\n",
      "    * etc."
     ]
    },
    {
     "cell_type": "markdown",
     "metadata": {
      "slideshow": {
       "slide_type": "notes"
      }
     },
     "source": [
      "\n",
      "\n",
      "\n",
      "\n"
     ]
    },
    {
     "cell_type": "markdown",
     "metadata": {
      "slideshow": {
       "slide_type": "slide"
      }
     },
     "source": [
      "## Exemple de format de fichiers\n",
      "\n",
      "* Format de fichier en cours d'\u00e9laboration \u00e0 UCL\n",
      "* Neurosciences exp\u00e9rimentales: enregistrements multi\u00e9lectrodes extracellulaires in vivo (~1GB/min)"
     ]
    },
    {
     "cell_type": "markdown",
     "metadata": {
      "slideshow": {
       "slide_type": "subslide"
      }
     },
     "source": [
      "![](images/buzsaki.PNG)"
     ]
    },
    {
     "cell_type": "markdown",
     "metadata": {
      "slideshow": {
       "slide_type": "subslide"
      }
     },
     "source": [
      "## Donn\u00e9es brutes\n",
      "\n",
      "Signaux digitaux non trait\u00e9s provenant directement des \u00e9lectrodes.\n",
      "\n",
      "**`myexperiment.kwd`**\n",
      "\n",
      "```\n",
      "/metadata\n",
      "    experiment-name\n",
      "    date\n",
      "    ...\n",
      "/recordings\n",
      "    [0]\n",
      "        data  [(1000000, 8), int16]\n",
      "    [1]\n",
      "        data  [(1000000, 8), int16]\n",
      "    [2]\n",
      "        data  [(1000000, 8), int16]\n",
      "    [3]\n",
      "        data  [(1000000, 8), int16]\n",
      "```"
     ]
    },
    {
     "cell_type": "markdown",
     "metadata": {
      "slideshow": {
       "slide_type": "subslide"
      }
     },
     "source": [
      "## Donn\u00e9es trait\u00e9es\n",
      "\n",
      "Potentiels d'action d\u00e9tect\u00e9s, extraits, regroup\u00e9s en sources neuronales.\n",
      "\n",
      "**`myexperiment.kwik`**\n",
      "\n",
      "```\n",
      "/metadata\n",
      "    experiment-name\n",
      "    date\n",
      "/channel_groups\n",
      "    [2]\n",
      "        spikes\n",
      "            time  [(15000,), int64\n",
      "            waveforms  [(15000, 32, 8), int16]\n",
      "        clusters\n",
      "            [27]\n",
      "                color\n",
      "                ...\n",
      "```"
     ]
    },
    {
     "cell_type": "markdown",
     "metadata": {
      "slideshow": {
       "slide_type": "slide"
      }
     },
     "source": [
      "## Introduction \u00e0 h5py\n",
      "\n",
      "* Interface HDF5 en Python, compatible NumPy\n",
      "* Simple et l\u00e9g\u00e8re, orient\u00e9e `array`\n",
      "* Alternative: PyTables\n",
      "    * Librairie plus lourde\n",
      "    * Orient\u00e9e `table`, permet des requ\u00eates de type SQL"
     ]
    },
    {
     "cell_type": "code",
     "collapsed": false,
     "input": [
      "import h5py"
     ],
     "language": "python",
     "metadata": {
      "slideshow": {
       "slide_type": "subslide"
      }
     },
     "outputs": []
    },
    {
     "cell_type": "code",
     "collapsed": false,
     "input": [
      "fd = h5py.File('test.h5', mode='w')"
     ],
     "language": "python",
     "metadata": {
      "slideshow": {
       "slide_type": "-"
      }
     },
     "outputs": [],
     "prompt_number": 4
    },
    {
     "cell_type": "code",
     "collapsed": false,
     "input": [
      "fd.create_group('recordings/0')"
     ],
     "language": "python",
     "metadata": {},
     "outputs": [
      {
       "metadata": {},
       "output_type": "pyout",
       "prompt_number": 5,
       "text": [
        "<HDF5 group \"/recordings/0\" (0 members)>"
       ]
      }
     ],
     "prompt_number": 5
    },
    {
     "cell_type": "code",
     "collapsed": false,
     "input": [
      "import numpy as np\n",
      "data = np.random.randint(low=-10000, high=10000, size=(100000, 8))"
     ],
     "language": "python",
     "metadata": {},
     "outputs": [],
     "prompt_number": 8
    },
    {
     "cell_type": "code",
     "collapsed": false,
     "input": [
      "fd.create_dataset('recordings/0/data', data=data)"
     ],
     "language": "python",
     "metadata": {},
     "outputs": [
      {
       "metadata": {},
       "output_type": "pyout",
       "prompt_number": 12,
       "text": [
        "<HDF5 dataset \"data\": shape (100000, 8), type \"<i4\">"
       ]
      }
     ],
     "prompt_number": 12
    },
    {
     "cell_type": "code",
     "collapsed": false,
     "input": [
      "fd['recordings/0/data']"
     ],
     "language": "python",
     "metadata": {},
     "outputs": [
      {
       "metadata": {},
       "output_type": "pyout",
       "prompt_number": 13,
       "text": [
        "<HDF5 dataset \"data\": shape (100000, 8), type \"<i4\">"
       ]
      }
     ],
     "prompt_number": 13
    }
   ],
   "metadata": {}
  }
 ]
}